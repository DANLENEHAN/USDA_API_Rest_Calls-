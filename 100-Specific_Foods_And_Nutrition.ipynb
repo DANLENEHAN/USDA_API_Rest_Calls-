{
 "cells": [
  {
   "cell_type": "markdown",
   "metadata": {},
   "source": [
    "# Nutritional Information of Food Groups/ Items"
   ]
  },
  {
   "cell_type": "markdown",
   "metadata": {},
   "source": [
    "# Purpose \n",
    "This notebook is concerned with preforming API requests from the USDA API. \n",
    "<br>\n",
    "These request types require/contain nutritional IDs and either food group or food item IDs"
   ]
  },
  {
   "cell_type": "code",
   "execution_count": 21,
   "metadata": {
    "collapsed": true
   },
   "outputs": [],
   "source": [
    "import requests\n",
    "import os.path\n",
    "import pandas as pd\n",
    "import numpy as np\n",
    "import matplotlib.pyplot as plt\n",
    "import math\n",
    "%matplotlib inline\n",
    "import datetime\n",
    "import matplotlib.ticker as ticker\n",
    "import matplotlib.dates as mdates\n",
    "import xml.etree.ElementTree as ET\n",
    "from urllib.request import Request, urlopen\n",
    "import json\n",
    "from pandas.io.json import json_normalize"
   ]
  },
  {
   "cell_type": "markdown",
   "metadata": {},
   "source": [
    " ** First part of the Notebook gets nutritional information for an API request that includes macro nutrients and either a the food group or food Id reference **  "
   ]
  },
  {
   "cell_type": "markdown",
   "metadata": {},
   "source": [
    "In the first url request we can see there are three nutrients entered by ID and no food group therefore the food group will be default so 'all foods'\n",
    "<br>\n",
    "1)\n",
    "<br>\n",
    "url =  'https://api.nal.usda.gov/ndb/nutrients/?format=json&api_key=YLUo1YomNbggLG2IZPcbq3WZza7XLr9UKk6bUSl3&nutrients=205&nutrients=204&nutrients=208&nutrients=269'\n",
    "<br>\n",
    "In this second request we can see that there four nutrients mentioned and two food groups \n",
    "<br>\n",
    "2) \n",
    "<br>\n",
    "url = https://api.nal.usda.gov/ndb/nutrients/?format=json&api_key=YLUo1YomNbggLG2IZPcbq3WZza7XLr9UKk6bUSl3&nutrients=205&nutrients=204&nutrients=208&nutrients=269&fg=0100&fg=0500\n",
    "<br>\n",
    "The third rquest shows three nutrietns and one food item requested \n",
    "<br>\n",
    "3) \n",
    "<br>\n",
    "url = 'https://api.nal.usda.gov/ndb/nutrients/?format=json&api_key=YLUo1YomNbggLG2IZPcbq3WZza7XLr9UKk6bUSl3&nutrients=205&nutrients=204&nutrients=208&nutrients=269&ndbno=01009"
   ]
  },
  {
   "cell_type": "code",
   "execution_count": 22,
   "metadata": {
    "collapsed": true
   },
   "outputs": [],
   "source": [
    "# Making the API request \n",
    "url = 'https://api.nal.usda.gov/ndb/nutrients/?format=json&api_key=YLUo1YomNbggLG2IZPcbq3WZza7XLr9UKk6bUSl3&nutrients=205&nutrients=204&nutrients=208&nutrients=269'"
   ]
  },
  {
   "cell_type": "code",
   "execution_count": 23,
   "metadata": {
    "collapsed": true
   },
   "outputs": [],
   "source": [
    "# parsing json to a dictionary \n",
    "r = requests.get(url)\n",
    "data = r.json()"
   ]
  },
  {
   "cell_type": "code",
   "execution_count": 24,
   "metadata": {
    "collapsed": true
   },
   "outputs": [],
   "source": [
    "# Creating a list of the foods and vars for the number of food items, food group from the json\n",
    "jsondict = data['report']\n",
    "# Each food in the food list is a dictionary \n",
    "foodList = jsondict['foods']\n",
    "foodnum = jsondict['end']\n",
    "foodGroup = jsondict['groups']"
   ]
  },
  {
   "cell_type": "code",
   "execution_count": 49,
   "metadata": {
    "collapsed": true
   },
   "outputs": [],
   "source": [
    "# Creating a list of all the food names \n",
    "# Creating a dictionary that has the food names as keys and the food dictionary as a value \n",
    "foodNameDict = {}\n",
    "nameList = []\n",
    "\n",
    "for x in foodList:\n",
    "    foodNameDict[x['name']] = x\n",
    "    nameList.append(x['name'])"
   ]
  },
  {
   "cell_type": "markdown",
   "metadata": {},
   "source": [
    "# Example referencing a food item"
   ]
  },
  {
   "cell_type": "code",
   "execution_count": 72,
   "metadata": {},
   "outputs": [
    {
     "name": "stdout",
     "output_type": "stream",
     "text": [
      "Abiyuch, raw \n",
      "\n",
      "dict_keys(['ndbno', 'name', 'weight', 'measure', 'nutrients']) \n",
      "\n",
      "Nutrients:\n"
     ]
    },
    {
     "data": {
      "text/plain": [
       "[{'gm': 69.0,\n",
       "  'nutrient': 'Energy',\n",
       "  'nutrient_id': '208',\n",
       "  'unit': 'kcal',\n",
       "  'value': '79'},\n",
       " {'gm': 8.55,\n",
       "  'nutrient': 'Sugars, total',\n",
       "  'nutrient_id': '269',\n",
       "  'unit': 'g',\n",
       "  'value': '9.75'},\n",
       " {'gm': 0.1,\n",
       "  'nutrient': 'Total lipid (fat)',\n",
       "  'nutrient_id': '204',\n",
       "  'unit': 'g',\n",
       "  'value': '0.11'},\n",
       " {'gm': 17.6,\n",
       "  'nutrient': 'Carbohydrate, by difference',\n",
       "  'nutrient_id': '205',\n",
       "  'unit': 'g',\n",
       "  'value': '20.06'}]"
      ]
     },
     "execution_count": 72,
     "metadata": {},
     "output_type": "execute_result"
    }
   ],
   "source": [
    "# First we get a name e.g.\n",
    "print(nameList[0], '\\n')\n",
    "# Then we have a group of variables we can acesss. \n",
    "print(foodNameDict[nameList[0]].keys(), '\\n')\n",
    "# each variable is a word except for the nutriets which will be a list containg a dictionary for each nutrient you requested \n",
    "nutrientNum = len(foodNameDict[nameList[0]]['nutrients'])\n",
    "# The nutrietn values are expressed over the weight of the item but 100g values are given too \n",
    "print('Nutrients:')\n",
    "foodNameDict[nameList[0]]['nutrients']"
   ]
  },
  {
   "cell_type": "markdown",
   "metadata": {},
   "source": [
    "# Food Info \n",
    "ndbno = NDB food number <br>\n",
    "name = food name <br>\n",
    "measure = The household measure represented by the nutrient value element <br>\n",
    "nutrients\tThe list of nutrients and their values for a food <br>"
   ]
  },
  {
   "cell_type": "markdown",
   "metadata": {},
   "source": [
    "# Nutrient Info \n",
    "nutrient_id = Nutrient Number <br>\n",
    "nutrient = Description of the nutrient <br> \n",
    "unit = Unit in which the nutrient value is expressed <br> \n",
    "gm = The 100 gram equivalent value for the nutrient <br> \n",
    "value = Value of the nutrient for this food <br> "
   ]
  }
 ],
 "metadata": {
  "kernelspec": {
   "display_name": "Python 3",
   "language": "python",
   "name": "python3"
  },
  "language_info": {
   "codemirror_mode": {
    "name": "ipython",
    "version": 3
   },
   "file_extension": ".py",
   "mimetype": "text/x-python",
   "name": "python",
   "nbconvert_exporter": "python",
   "pygments_lexer": "ipython3",
   "version": "3.6.3"
  }
 },
 "nbformat": 4,
 "nbformat_minor": 2
}
